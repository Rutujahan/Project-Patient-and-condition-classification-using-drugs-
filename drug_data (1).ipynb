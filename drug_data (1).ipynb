{
 "cells": [
  {
   "cell_type": "markdown",
   "id": "6f5602b1",
   "metadata": {
    "id": "6f5602b1"
   },
   "source": [
    "Drugs Reviews Sentiment Analysis\n",
    "\n",
    "Problem statement\n",
    "\n",
    "The aim of this project is to compare different text representations and learning models in the context of a classification task.\n",
    "\n",
    "\n",
    "The dataset that we will use is the Drug Reviews Dataset.\n",
    "\n",
    "\n",
    "We will understand and clean data by performing some Exploratory Data Analysis (EDA) and Text Preprocessing.\n",
    "\n",
    "\n",
    "Since the dataset does not provide a sentiment target variable, we will label the reviews using two different strategies:\n",
    "\n",
    "Ratings\n",
    "VADER\n",
    "We will use three different models:\n",
    "\n",
    "CountVectorizer (BoW)\n",
    "TF-IDF\n",
    "Dense Word Embedding (Glove)\n",
    "For each of them we will try three different algorithms for classification:\n",
    "\n",
    "Naive Bayes\n",
    "Logistic Regression\n",
    "Random Forest\n",
    "For some of these configurations we will run a GridSearch to find the best hyper parameters.\n",
    "\n",
    "For each model, we are going to calculate the \n",
    " confidence interval on accuracy.\n",
    "\n",
    "Finally, we are going to compare our models in pairs through the significance test to determine if there is a model which can be considered better than the others; in particular, we will compare the performance of the best models found through the various grid searches by statistically compared the accuracy on the test set.\n",
    "\n",
    "In the \"Final Considerations\" section we will report a summary of the results obtained and some considerations on them.\n",
    "\n",
    "NOTES\n",
    "\n",
    "Some sections may take a long time to run.\n",
    "\n",
    "Therefore, in this folder you can find the files to load during the execution; in particular:\n",
    "\n",
    "*df.p* to skip the \"Data Understanding\", \"Text Preprocessing\" and \"Labeling\" sections, and go directly to \"Models -> Load Clean Dataset\".\n",
    "*X_train.p, X_test.p, Y_train.p, Y_test.p* to skip the preparation part of the embedding matrix and data in the \"Dense Word Embedding\" section and go directly to \"Dense Word Embedding -> Load Input Data\".\n",
    "Configuration\n",
    "We import all the required packages."
   ]
  },
  {
   "cell_type": "code",
   "execution_count": 1,
   "id": "QqMZKuz8zp_4",
   "metadata": {
    "colab": {
     "base_uri": "https://localhost:8080/"
    },
    "id": "QqMZKuz8zp_4",
    "outputId": "ae7a744b-622a-4e17-c72c-a7909593397b"
   },
   "outputs": [
    {
     "name": "stdout",
     "output_type": "stream",
     "text": [
      "Defaulting to user installation because normal site-packages is not writeable\n",
      "Requirement already satisfied: vaderSentiment in c:\\users\\admin\\appdata\\roaming\\python\\python39\\site-packages (3.3.2)\n",
      "Requirement already satisfied: requests in c:\\programdata\\anaconda3\\lib\\site-packages (from vaderSentiment) (2.27.1)\n",
      "Requirement already satisfied: urllib3<1.27,>=1.21.1 in c:\\programdata\\anaconda3\\lib\\site-packages (from requests->vaderSentiment) (1.26.9)\n",
      "Requirement already satisfied: charset-normalizer~=2.0.0 in c:\\programdata\\anaconda3\\lib\\site-packages (from requests->vaderSentiment) (2.0.4)\n",
      "Requirement already satisfied: idna<4,>=2.5 in c:\\programdata\\anaconda3\\lib\\site-packages (from requests->vaderSentiment) (3.3)\n",
      "Requirement already satisfied: certifi>=2017.4.17 in c:\\programdata\\anaconda3\\lib\\site-packages (from requests->vaderSentiment) (2021.10.8)\n",
      "Note: you may need to restart the kernel to use updated packages.\n"
     ]
    }
   ],
   "source": [
    "pip install vaderSentiment \n"
   ]
  },
  {
   "cell_type": "code",
   "execution_count": 2,
   "id": "J4OuLKy603N0",
   "metadata": {
    "colab": {
     "base_uri": "https://localhost:8080/"
    },
    "id": "J4OuLKy603N0",
    "outputId": "6bc5f361-ac12-42a3-db37-d0538a63cda3"
   },
   "outputs": [
    {
     "name": "stdout",
     "output_type": "stream",
     "text": [
      "Defaulting to user installation because normal site-packages is not writeable\n",
      "Requirement already satisfied: contractions in c:\\users\\admin\\appdata\\roaming\\python\\python39\\site-packages (0.1.73)\n",
      "Requirement already satisfied: textsearch>=0.0.21 in c:\\users\\admin\\appdata\\roaming\\python\\python39\\site-packages (from contractions) (0.0.24)\n",
      "Requirement already satisfied: anyascii in c:\\users\\admin\\appdata\\roaming\\python\\python39\\site-packages (from textsearch>=0.0.21->contractions) (0.3.2)\n",
      "Requirement already satisfied: pyahocorasick in c:\\users\\admin\\appdata\\roaming\\python\\python39\\site-packages (from textsearch>=0.0.21->contractions) (2.0.0)\n"
     ]
    }
   ],
   "source": [
    "!pip install contractions"
   ]
  },
  {
   "cell_type": "code",
   "execution_count": 3,
   "id": "nzL78lx870XH",
   "metadata": {
    "colab": {
     "base_uri": "https://localhost:8080/"
    },
    "id": "nzL78lx870XH",
    "outputId": "827582e8-c308-44d7-bb71-329ae6e1ce5a"
   },
   "outputs": [
    {
     "name": "stdout",
     "output_type": "stream",
     "text": [
      "Defaulting to user installation because normal site-packages is not writeableNote: you may need to restart the kernel to use updated packages.\n",
      "Requirement already satisfied: pyspellchecker in c:\\users\\admin\\appdata\\roaming\\python\\python39\\site-packages (0.7.1)\n",
      "\n"
     ]
    }
   ],
   "source": [
    "pip install pyspellchecker"
   ]
  },
  {
   "cell_type": "code",
   "execution_count": 4,
   "id": "188abee9",
   "metadata": {
    "colab": {
     "base_uri": "https://localhost:8080/"
    },
    "id": "188abee9",
    "outputId": "197de005-ea1b-4031-cc9d-9330f9314274"
   },
   "outputs": [
    {
     "name": "stderr",
     "output_type": "stream",
     "text": [
      "[nltk_data] Error loading stopwords: <urlopen error [WinError 10060] A\n",
      "[nltk_data]     connection attempt failed because the connected party\n",
      "[nltk_data]     did not properly respond after a period of time, or\n",
      "[nltk_data]     established connection failed because connected host\n",
      "[nltk_data]     has failed to respond>\n",
      "[nltk_data] Error loading punkt: <urlopen error [WinError 10060] A\n",
      "[nltk_data]     connection attempt failed because the connected party\n",
      "[nltk_data]     did not properly respond after a period of time, or\n",
      "[nltk_data]     established connection failed because connected host\n",
      "[nltk_data]     has failed to respond>\n"
     ]
    }
   ],
   "source": [
    "# Utility\n",
    "import numpy as np \n",
    "import pandas as pd \n",
    "import matplotlib.pyplot as plt \n",
    "import seaborn as sns\n",
    "import scipy\n",
    "import math\n",
    "%matplotlib inline\n",
    "from matplotlib import style\n",
    "style.use('ggplot')\n",
    "import os \n",
    "import pickle \n",
    "from time import time\n",
    "import random\n",
    "\n",
    "# Extra tools for data preprocessing \n",
    "import nltk\n",
    "nltk.download('stopwords')\n",
    "nltk.download('punkt')\n",
    "from nltk.corpus import stopwords\n",
    "from nltk.tokenize import word_tokenize\n",
    "from bs4 import BeautifulSoup\n",
    "import re\n",
    "from functools import reduce\n",
    "from nltk.stem.snowball import SnowballStemmer\n",
    "from collections import OrderedDict\n",
    "\n",
    "\n",
    "# Vader \n",
    "import vaderSentiment\n",
    "from vaderSentiment.vaderSentiment import SentimentIntensityAnalyzer\n",
    "\n",
    "# Downloader for Glove Word Embedding \n",
    "import gensim\n",
    "import gensim.downloader as gloader\n",
    "\n",
    "# WordCloud\n",
    "from wordcloud import WordCloud, STOPWORDS\n",
    "\n",
    "# Contractions\n",
    "import contractions\n",
    "\n",
    "# Sklearn \n",
    "from sklearn.base import BaseEstimator, TransformerMixin\n",
    "from sklearn.metrics import f1_score\n",
    "from sklearn.model_selection import train_test_split \n",
    "from sklearn.feature_extraction.text import TfidfVectorizer \n",
    "from sklearn.feature_extraction.text import CountVectorizer\n",
    "from sklearn.metrics import confusion_matrix, classification_report \n",
    "from sklearn.naive_bayes import MultinomialNB \n",
    "from sklearn.ensemble import RandomForestClassifier  \n",
    "from sklearn.linear_model import LogisticRegression\n",
    "from sklearn.model_selection import ParameterGrid\n",
    "from sklearn.model_selection import GridSearchCV\n",
    "import pandas as pd\n",
    "import numpy as np\n",
    "from sklearn.feature_extraction.text import TfidfVectorizer\n",
    "from sklearn.model_selection import train_test_split\n",
    "from sklearn.svm import SVC\n",
    "import pickle\n"
   ]
  },
  {
   "cell_type": "markdown",
   "id": "5079443d",
   "metadata": {
    "id": "5079443d"
   },
   "source": [
    "#read your csv file"
   ]
  },
  {
   "cell_type": "code",
   "execution_count": null,
   "id": "140238e4",
   "metadata": {},
   "outputs": [],
   "source": []
  },
  {
   "cell_type": "code",
   "execution_count": 5,
   "id": "032ad28d",
   "metadata": {
    "colab": {
     "base_uri": "https://localhost:8080/",
     "height": 206
    },
    "id": "032ad28d",
    "outputId": "b728d84e-7372-455c-bf16-786f50cab23f"
   },
   "outputs": [
    {
     "data": {
      "text/html": [
       "<div>\n",
       "<style scoped>\n",
       "    .dataframe tbody tr th:only-of-type {\n",
       "        vertical-align: middle;\n",
       "    }\n",
       "\n",
       "    .dataframe tbody tr th {\n",
       "        vertical-align: top;\n",
       "    }\n",
       "\n",
       "    .dataframe thead th {\n",
       "        text-align: right;\n",
       "    }\n",
       "</style>\n",
       "<table border=\"1\" class=\"dataframe\">\n",
       "  <thead>\n",
       "    <tr style=\"text-align: right;\">\n",
       "      <th></th>\n",
       "      <th>UniqueID</th>\n",
       "      <th>drugName</th>\n",
       "      <th>condition</th>\n",
       "      <th>review</th>\n",
       "      <th>rating</th>\n",
       "      <th>date</th>\n",
       "      <th>usefulCount</th>\n",
       "    </tr>\n",
       "  </thead>\n",
       "  <tbody>\n",
       "    <tr>\n",
       "      <th>0</th>\n",
       "      <td>75612</td>\n",
       "      <td>L-methylfolate</td>\n",
       "      <td>depression</td>\n",
       "      <td>\"I have taken anti-depressants for years, with...</td>\n",
       "      <td>10.0</td>\n",
       "      <td>2017-03-09</td>\n",
       "      <td>54</td>\n",
       "    </tr>\n",
       "    <tr>\n",
       "      <th>1</th>\n",
       "      <td>96233</td>\n",
       "      <td>Sertraline</td>\n",
       "      <td>depression</td>\n",
       "      <td>\"1 week on Zoloft for anxiety and mood swings....</td>\n",
       "      <td>8.0</td>\n",
       "      <td>2011-05-07</td>\n",
       "      <td>3</td>\n",
       "    </tr>\n",
       "    <tr>\n",
       "      <th>2</th>\n",
       "      <td>121333</td>\n",
       "      <td>Venlafaxine</td>\n",
       "      <td>depression</td>\n",
       "      <td>\"my gp started me on Venlafaxine yesterday to ...</td>\n",
       "      <td>4.0</td>\n",
       "      <td>2016-04-27</td>\n",
       "      <td>3</td>\n",
       "    </tr>\n",
       "    <tr>\n",
       "      <th>3</th>\n",
       "      <td>156544</td>\n",
       "      <td>Dulaglutide</td>\n",
       "      <td>diabetes, type 2</td>\n",
       "      <td>\"Hey Guys,  It&amp;#039;s been 4 months since my l...</td>\n",
       "      <td>10.0</td>\n",
       "      <td>2017-10-24</td>\n",
       "      <td>24</td>\n",
       "    </tr>\n",
       "    <tr>\n",
       "      <th>4</th>\n",
       "      <td>131909</td>\n",
       "      <td>Effexor XR</td>\n",
       "      <td>depression</td>\n",
       "      <td>\"This medicine saved my life. I was at my wits...</td>\n",
       "      <td>10.0</td>\n",
       "      <td>2013-06-20</td>\n",
       "      <td>166</td>\n",
       "    </tr>\n",
       "  </tbody>\n",
       "</table>\n",
       "</div>"
      ],
      "text/plain": [
       "   UniqueID        drugName         condition  \\\n",
       "0     75612  L-methylfolate        depression   \n",
       "1     96233      Sertraline        depression   \n",
       "2    121333     Venlafaxine        depression   \n",
       "3    156544     Dulaglutide  diabetes, type 2   \n",
       "4    131909      Effexor XR        depression   \n",
       "\n",
       "                                              review  rating        date  \\\n",
       "0  \"I have taken anti-depressants for years, with...    10.0  2017-03-09   \n",
       "1  \"1 week on Zoloft for anxiety and mood swings....     8.0  2011-05-07   \n",
       "2  \"my gp started me on Venlafaxine yesterday to ...     4.0  2016-04-27   \n",
       "3  \"Hey Guys,  It&#039;s been 4 months since my l...    10.0  2017-10-24   \n",
       "4  \"This medicine saved my life. I was at my wits...    10.0  2013-06-20   \n",
       "\n",
       "   usefulCount  \n",
       "0           54  \n",
       "1            3  \n",
       "2            3  \n",
       "3           24  \n",
       "4          166  "
      ]
     },
     "execution_count": 5,
     "metadata": {},
     "output_type": "execute_result"
    }
   ],
   "source": [
    "#read File\n",
    "df = pd.read_csv('drug_data.csv',encoding='latin-1')\n",
    "df.head()\n",
    "# read first 5 records"
   ]
  },
  {
   "cell_type": "code",
   "execution_count": 6,
   "id": "2b9c7f71",
   "metadata": {
    "colab": {
     "base_uri": "https://localhost:8080/",
     "height": 206
    },
    "id": "2b9c7f71",
    "outputId": "64448880-508f-4910-f063-17652c57b19c"
   },
   "outputs": [
    {
     "data": {
      "text/html": [
       "<div>\n",
       "<style scoped>\n",
       "    .dataframe tbody tr th:only-of-type {\n",
       "        vertical-align: middle;\n",
       "    }\n",
       "\n",
       "    .dataframe tbody tr th {\n",
       "        vertical-align: top;\n",
       "    }\n",
       "\n",
       "    .dataframe thead th {\n",
       "        text-align: right;\n",
       "    }\n",
       "</style>\n",
       "<table border=\"1\" class=\"dataframe\">\n",
       "  <thead>\n",
       "    <tr style=\"text-align: right;\">\n",
       "      <th></th>\n",
       "      <th>UniqueID</th>\n",
       "      <th>drugName</th>\n",
       "      <th>condition</th>\n",
       "      <th>review</th>\n",
       "      <th>rating</th>\n",
       "      <th>date</th>\n",
       "      <th>usefulCount</th>\n",
       "    </tr>\n",
       "  </thead>\n",
       "  <tbody>\n",
       "    <tr>\n",
       "      <th>13939</th>\n",
       "      <td>198130</td>\n",
       "      <td>Metoprolol</td>\n",
       "      <td>high blood pressure</td>\n",
       "      <td>\"It is fourth blood pressure pill for me. It f...</td>\n",
       "      <td>4.0</td>\n",
       "      <td>2009-07-15</td>\n",
       "      <td>39</td>\n",
       "    </tr>\n",
       "    <tr>\n",
       "      <th>13940</th>\n",
       "      <td>34443</td>\n",
       "      <td>Bystolic</td>\n",
       "      <td>high blood pressure</td>\n",
       "      <td>\"While on Bystolic my feet and arms were numb....</td>\n",
       "      <td>1.0</td>\n",
       "      <td>2009-07-18</td>\n",
       "      <td>25</td>\n",
       "    </tr>\n",
       "    <tr>\n",
       "      <th>13941</th>\n",
       "      <td>86533</td>\n",
       "      <td>Invokana</td>\n",
       "      <td>diabetes, type 2</td>\n",
       "      <td>\"I just got diagnosed with type 2. My doctor p...</td>\n",
       "      <td>9.0</td>\n",
       "      <td>2015-10-23</td>\n",
       "      <td>47</td>\n",
       "    </tr>\n",
       "    <tr>\n",
       "      <th>13942</th>\n",
       "      <td>93069</td>\n",
       "      <td>Vortioxetine</td>\n",
       "      <td>depression</td>\n",
       "      <td>\"This is the third med I&amp;#039;ve tried for anx...</td>\n",
       "      <td>2.0</td>\n",
       "      <td>2016-07-17</td>\n",
       "      <td>33</td>\n",
       "    </tr>\n",
       "    <tr>\n",
       "      <th>13943</th>\n",
       "      <td>103458</td>\n",
       "      <td>Tekturna</td>\n",
       "      <td>high blood pressure</td>\n",
       "      <td>\"I have only been on Tekturna for 9 days. The ...</td>\n",
       "      <td>7.0</td>\n",
       "      <td>2010-02-07</td>\n",
       "      <td>18</td>\n",
       "    </tr>\n",
       "  </tbody>\n",
       "</table>\n",
       "</div>"
      ],
      "text/plain": [
       "       UniqueID      drugName            condition  \\\n",
       "13939    198130    Metoprolol  high blood pressure   \n",
       "13940     34443      Bystolic  high blood pressure   \n",
       "13941     86533      Invokana     diabetes, type 2   \n",
       "13942     93069  Vortioxetine           depression   \n",
       "13943    103458      Tekturna  high blood pressure   \n",
       "\n",
       "                                                  review  rating        date  \\\n",
       "13939  \"It is fourth blood pressure pill for me. It f...     4.0  2009-07-15   \n",
       "13940  \"While on Bystolic my feet and arms were numb....     1.0  2009-07-18   \n",
       "13941  \"I just got diagnosed with type 2. My doctor p...     9.0  2015-10-23   \n",
       "13942  \"This is the third med I&#039;ve tried for anx...     2.0  2016-07-17   \n",
       "13943  \"I have only been on Tekturna for 9 days. The ...     7.0  2010-02-07   \n",
       "\n",
       "       usefulCount  \n",
       "13939           39  \n",
       "13940           25  \n",
       "13941           47  \n",
       "13942           33  \n",
       "13943           18  "
      ]
     },
     "execution_count": 6,
     "metadata": {},
     "output_type": "execute_result"
    }
   ],
   "source": [
    "# # read last 5 records\n",
    "df.tail()"
   ]
  },
  {
   "cell_type": "markdown",
   "id": "44850c61",
   "metadata": {
    "id": "44850c61"
   },
   "source": [
    "# Understanding the data"
   ]
  },
  {
   "cell_type": "code",
   "execution_count": 7,
   "id": "6bcd99c4",
   "metadata": {
    "colab": {
     "base_uri": "https://localhost:8080/"
    },
    "id": "6bcd99c4",
    "outputId": "51106b78-28f2-46e6-8a09-a8ca5d0120c6"
   },
   "outputs": [
    {
     "data": {
      "text/plain": [
       "(13944, 7)"
      ]
     },
     "execution_count": 7,
     "metadata": {},
     "output_type": "execute_result"
    }
   ],
   "source": [
    "df.shape"
   ]
  },
  {
   "cell_type": "code",
   "execution_count": 8,
   "id": "b3c65083",
   "metadata": {
    "colab": {
     "base_uri": "https://localhost:8080/"
    },
    "id": "b3c65083",
    "outputId": "0becebfc-44b6-4edf-a0b9-5a952d4ca3d2"
   },
   "outputs": [
    {
     "data": {
      "text/plain": [
       "Index(['UniqueID', 'drugName', 'condition', 'review', 'rating', 'date',\n",
       "       'usefulCount'],\n",
       "      dtype='object')"
      ]
     },
     "execution_count": 8,
     "metadata": {},
     "output_type": "execute_result"
    }
   ],
   "source": [
    "# check columns in dataset\n",
    "df.columns"
   ]
  },
  {
   "cell_type": "code",
   "execution_count": 9,
   "id": "OmNhsVBkzRTg",
   "metadata": {
    "id": "OmNhsVBkzRTg"
   },
   "outputs": [],
   "source": [
    "# Convert date to datetime \n",
    "df['date'] = pd.to_datetime(df['date'])  "
   ]
  },
  {
   "cell_type": "code",
   "execution_count": 10,
   "id": "a924ae48",
   "metadata": {
    "colab": {
     "base_uri": "https://localhost:8080/"
    },
    "id": "a924ae48",
    "outputId": "df55a0b0-922c-435f-8b1a-eae3f143e372"
   },
   "outputs": [
    {
     "name": "stdout",
     "output_type": "stream",
     "text": [
      "<class 'pandas.core.frame.DataFrame'>\n",
      "RangeIndex: 13944 entries, 0 to 13943\n",
      "Data columns (total 7 columns):\n",
      " #   Column       Non-Null Count  Dtype         \n",
      "---  ------       --------------  -----         \n",
      " 0   UniqueID     13944 non-null  int64         \n",
      " 1   drugName     13944 non-null  object        \n",
      " 2   condition    13944 non-null  object        \n",
      " 3   review       13944 non-null  object        \n",
      " 4   rating       13944 non-null  float64       \n",
      " 5   date         13944 non-null  datetime64[ns]\n",
      " 6   usefulCount  13944 non-null  int64         \n",
      "dtypes: datetime64[ns](1), float64(1), int64(2), object(3)\n",
      "memory usage: 762.7+ KB\n"
     ]
    }
   ],
   "source": [
    "df.info()"
   ]
  },
  {
   "cell_type": "code",
   "execution_count": 11,
   "id": "d1248689",
   "metadata": {
    "colab": {
     "base_uri": "https://localhost:8080/"
    },
    "id": "d1248689",
    "outputId": "0126b7b8-1fed-41c2-9897-fa7c57e199ca"
   },
   "outputs": [
    {
     "data": {
      "text/plain": [
       "0"
      ]
     },
     "execution_count": 11,
     "metadata": {},
     "output_type": "execute_result"
    }
   ],
   "source": [
    "# checking duplicate values \n",
    "df.duplicated().sum()"
   ]
  },
  {
   "cell_type": "code",
   "execution_count": 12,
   "id": "9797b2ee",
   "metadata": {
    "colab": {
     "base_uri": "https://localhost:8080/"
    },
    "id": "9797b2ee",
    "outputId": "24f17266-2d91-4a2f-97c4-f12e17e893e5"
   },
   "outputs": [
    {
     "data": {
      "text/plain": [
       "UniqueID       0\n",
       "drugName       0\n",
       "condition      0\n",
       "review         0\n",
       "rating         0\n",
       "date           0\n",
       "usefulCount    0\n",
       "dtype: int64"
      ]
     },
     "execution_count": 12,
     "metadata": {},
     "output_type": "execute_result"
    }
   ],
   "source": [
    "#check null values in dataset\n",
    "df.isnull().sum()"
   ]
  },
  {
   "cell_type": "code",
   "execution_count": 13,
   "id": "617ac30f",
   "metadata": {
    "colab": {
     "base_uri": "https://localhost:8080/"
    },
    "id": "617ac30f",
    "outputId": "0336bb2d-2111-4ccc-f839-a9013e308c63"
   },
   "outputs": [
    {
     "data": {
      "text/plain": [
       "(13944, 7)"
      ]
     },
     "execution_count": 13,
     "metadata": {},
     "output_type": "execute_result"
    }
   ],
   "source": [
    "df.shape"
   ]
  },
  {
   "cell_type": "code",
   "execution_count": 14,
   "id": "cd933c2d",
   "metadata": {
    "id": "cd933c2d"
   },
   "outputs": [],
   "source": [
    "# renaming the unknown  column to UniqueID\n",
    "df= df.rename({'Unnamed: 0': 'UniqueID'}, axis=1)"
   ]
  },
  {
   "cell_type": "code",
   "execution_count": 15,
   "id": "7e9c1136",
   "metadata": {
    "colab": {
     "base_uri": "https://localhost:8080/",
     "height": 513
    },
    "id": "7e9c1136",
    "outputId": "726f2496-6e39-4359-d54d-0491affed844"
   },
   "outputs": [
    {
     "name": "stderr",
     "output_type": "stream",
     "text": [
      "C:\\Users\\Admin\\AppData\\Local\\Temp\\ipykernel_16576\\3949848010.py:2: FutureWarning: Treating datetime data as categorical rather than numeric in `.describe` is deprecated and will be removed in a future version of pandas. Specify `datetime_is_numeric=True` to silence this warning and adopt the future behavior now.\n",
      "  df.describe(include= 'all')\n"
     ]
    },
    {
     "data": {
      "text/html": [
       "<div>\n",
       "<style scoped>\n",
       "    .dataframe tbody tr th:only-of-type {\n",
       "        vertical-align: middle;\n",
       "    }\n",
       "\n",
       "    .dataframe tbody tr th {\n",
       "        vertical-align: top;\n",
       "    }\n",
       "\n",
       "    .dataframe thead th {\n",
       "        text-align: right;\n",
       "    }\n",
       "</style>\n",
       "<table border=\"1\" class=\"dataframe\">\n",
       "  <thead>\n",
       "    <tr style=\"text-align: right;\">\n",
       "      <th></th>\n",
       "      <th>UniqueID</th>\n",
       "      <th>drugName</th>\n",
       "      <th>condition</th>\n",
       "      <th>review</th>\n",
       "      <th>rating</th>\n",
       "      <th>date</th>\n",
       "      <th>usefulCount</th>\n",
       "    </tr>\n",
       "  </thead>\n",
       "  <tbody>\n",
       "    <tr>\n",
       "      <th>count</th>\n",
       "      <td>13944.000000</td>\n",
       "      <td>13944</td>\n",
       "      <td>13944</td>\n",
       "      <td>13944</td>\n",
       "      <td>13944.000000</td>\n",
       "      <td>13944</td>\n",
       "      <td>13944.000000</td>\n",
       "    </tr>\n",
       "    <tr>\n",
       "      <th>unique</th>\n",
       "      <td>NaN</td>\n",
       "      <td>334</td>\n",
       "      <td>3</td>\n",
       "      <td>9802</td>\n",
       "      <td>NaN</td>\n",
       "      <td>3138</td>\n",
       "      <td>NaN</td>\n",
       "    </tr>\n",
       "    <tr>\n",
       "      <th>top</th>\n",
       "      <td>NaN</td>\n",
       "      <td>Bupropion</td>\n",
       "      <td>depression</td>\n",
       "      <td>\"I have suffered from severe depression/anxiet...</td>\n",
       "      <td>NaN</td>\n",
       "      <td>2016-03-03 00:00:00</td>\n",
       "      <td>NaN</td>\n",
       "    </tr>\n",
       "    <tr>\n",
       "      <th>freq</th>\n",
       "      <td>NaN</td>\n",
       "      <td>549</td>\n",
       "      <td>9069</td>\n",
       "      <td>3</td>\n",
       "      <td>NaN</td>\n",
       "      <td>24</td>\n",
       "      <td>NaN</td>\n",
       "    </tr>\n",
       "    <tr>\n",
       "      <th>first</th>\n",
       "      <td>NaN</td>\n",
       "      <td>NaN</td>\n",
       "      <td>NaN</td>\n",
       "      <td>NaN</td>\n",
       "      <td>NaN</td>\n",
       "      <td>2008-02-25 00:00:00</td>\n",
       "      <td>NaN</td>\n",
       "    </tr>\n",
       "    <tr>\n",
       "      <th>last</th>\n",
       "      <td>NaN</td>\n",
       "      <td>NaN</td>\n",
       "      <td>NaN</td>\n",
       "      <td>NaN</td>\n",
       "      <td>NaN</td>\n",
       "      <td>2017-12-12 00:00:00</td>\n",
       "      <td>NaN</td>\n",
       "    </tr>\n",
       "    <tr>\n",
       "      <th>mean</th>\n",
       "      <td>125186.191050</td>\n",
       "      <td>NaN</td>\n",
       "      <td>NaN</td>\n",
       "      <td>NaN</td>\n",
       "      <td>6.862952</td>\n",
       "      <td>NaN</td>\n",
       "      <td>45.737880</td>\n",
       "    </tr>\n",
       "    <tr>\n",
       "      <th>std</th>\n",
       "      <td>64495.952023</td>\n",
       "      <td>NaN</td>\n",
       "      <td>NaN</td>\n",
       "      <td>NaN</td>\n",
       "      <td>3.207061</td>\n",
       "      <td>NaN</td>\n",
       "      <td>51.782627</td>\n",
       "    </tr>\n",
       "    <tr>\n",
       "      <th>min</th>\n",
       "      <td>870.000000</td>\n",
       "      <td>NaN</td>\n",
       "      <td>NaN</td>\n",
       "      <td>NaN</td>\n",
       "      <td>1.000000</td>\n",
       "      <td>NaN</td>\n",
       "      <td>0.000000</td>\n",
       "    </tr>\n",
       "    <tr>\n",
       "      <th>25%</th>\n",
       "      <td>74605.750000</td>\n",
       "      <td>NaN</td>\n",
       "      <td>NaN</td>\n",
       "      <td>NaN</td>\n",
       "      <td>4.000000</td>\n",
       "      <td>NaN</td>\n",
       "      <td>16.000000</td>\n",
       "    </tr>\n",
       "    <tr>\n",
       "      <th>50%</th>\n",
       "      <td>124638.500000</td>\n",
       "      <td>NaN</td>\n",
       "      <td>NaN</td>\n",
       "      <td>NaN</td>\n",
       "      <td>8.000000</td>\n",
       "      <td>NaN</td>\n",
       "      <td>31.000000</td>\n",
       "    </tr>\n",
       "    <tr>\n",
       "      <th>75%</th>\n",
       "      <td>182921.500000</td>\n",
       "      <td>NaN</td>\n",
       "      <td>NaN</td>\n",
       "      <td>NaN</td>\n",
       "      <td>10.000000</td>\n",
       "      <td>NaN</td>\n",
       "      <td>59.000000</td>\n",
       "    </tr>\n",
       "    <tr>\n",
       "      <th>max</th>\n",
       "      <td>232218.000000</td>\n",
       "      <td>NaN</td>\n",
       "      <td>NaN</td>\n",
       "      <td>NaN</td>\n",
       "      <td>10.000000</td>\n",
       "      <td>NaN</td>\n",
       "      <td>1291.000000</td>\n",
       "    </tr>\n",
       "  </tbody>\n",
       "</table>\n",
       "</div>"
      ],
      "text/plain": [
       "             UniqueID   drugName   condition  \\\n",
       "count    13944.000000      13944       13944   \n",
       "unique            NaN        334           3   \n",
       "top               NaN  Bupropion  depression   \n",
       "freq              NaN        549        9069   \n",
       "first             NaN        NaN         NaN   \n",
       "last              NaN        NaN         NaN   \n",
       "mean    125186.191050        NaN         NaN   \n",
       "std      64495.952023        NaN         NaN   \n",
       "min        870.000000        NaN         NaN   \n",
       "25%      74605.750000        NaN         NaN   \n",
       "50%     124638.500000        NaN         NaN   \n",
       "75%     182921.500000        NaN         NaN   \n",
       "max     232218.000000        NaN         NaN   \n",
       "\n",
       "                                                   review        rating  \\\n",
       "count                                               13944  13944.000000   \n",
       "unique                                               9802           NaN   \n",
       "top     \"I have suffered from severe depression/anxiet...           NaN   \n",
       "freq                                                    3           NaN   \n",
       "first                                                 NaN           NaN   \n",
       "last                                                  NaN           NaN   \n",
       "mean                                                  NaN      6.862952   \n",
       "std                                                   NaN      3.207061   \n",
       "min                                                   NaN      1.000000   \n",
       "25%                                                   NaN      4.000000   \n",
       "50%                                                   NaN      8.000000   \n",
       "75%                                                   NaN     10.000000   \n",
       "max                                                   NaN     10.000000   \n",
       "\n",
       "                       date   usefulCount  \n",
       "count                 13944  13944.000000  \n",
       "unique                 3138           NaN  \n",
       "top     2016-03-03 00:00:00           NaN  \n",
       "freq                     24           NaN  \n",
       "first   2008-02-25 00:00:00           NaN  \n",
       "last    2017-12-12 00:00:00           NaN  \n",
       "mean                    NaN     45.737880  \n",
       "std                     NaN     51.782627  \n",
       "min                     NaN      0.000000  \n",
       "25%                     NaN     16.000000  \n",
       "50%                     NaN     31.000000  \n",
       "75%                     NaN     59.000000  \n",
       "max                     NaN   1291.000000  "
      ]
     },
     "execution_count": 15,
     "metadata": {},
     "output_type": "execute_result"
    }
   ],
   "source": [
    "# statistical values for all column\n",
    "df.describe(include= 'all')"
   ]
  },
  {
   "cell_type": "markdown",
   "id": "94c425f5",
   "metadata": {
    "id": "94c425f5"
   },
   "source": [
    "Top condition is Birth Control.\n",
    "Top review is just a single word \"Good\", but it has very small count - 39. May be lazy people like me have written that comment.\n",
    "Most single day review came on 1-Mar-16, it will be interesting to investigate this date and see for which drugName and which conditions these reviews were for."
   ]
  },
  {
   "cell_type": "code",
   "execution_count": 16,
   "id": "40ccf334",
   "metadata": {
    "colab": {
     "base_uri": "https://localhost:8080/"
    },
    "id": "40ccf334",
    "outputId": "60aff111-077f-44e3-f378-a9def887aac8"
   },
   "outputs": [
    {
     "data": {
      "text/plain": [
       "334"
      ]
     },
     "execution_count": 16,
     "metadata": {},
     "output_type": "execute_result"
    }
   ],
   "source": [
    "#check number of unique values in drugName\n",
    "df['drugName'].nunique()\n"
   ]
  },
  {
   "cell_type": "code",
   "execution_count": 17,
   "id": "c6336238",
   "metadata": {
    "colab": {
     "base_uri": "https://localhost:8080/"
    },
    "id": "c6336238",
    "outputId": "475b822a-032d-4a6d-f8c0-85b0d885de34"
   },
   "outputs": [
    {
     "data": {
      "text/plain": [
       "3"
      ]
     },
     "execution_count": 17,
     "metadata": {},
     "output_type": "execute_result"
    }
   ],
   "source": [
    "#check number of unique values in condition\n",
    "df['condition'].nunique()"
   ]
  },
  {
   "cell_type": "code",
   "execution_count": 18,
   "id": "27c45388",
   "metadata": {
    "colab": {
     "base_uri": "https://localhost:8080/",
     "height": 520
    },
    "id": "27c45388",
    "outputId": "b84aeff5-50bd-4e63-e8f3-cdca557665cc"
   },
   "outputs": [
    {
     "data": {
      "image/png": "[encoded data removed]",
      "text/plain": [
       "<Figure size 864x432 with 1 Axes>"
      ]
     },
     "metadata": {},
     "output_type": "display_data"
    }
   ],
   "source": [
    "# plot a bargraph to check top 20 conditions\n",
    "plt.figure(figsize=(12,6))\n",
    "conditions = df['condition'].value_counts(ascending = False).head(20)\n",
    "\n",
    "plt.bar(conditions.index,conditions.values)\n",
    "plt.title('Top-20 Conditions',fontsize = 20)\n",
    "plt.xticks(rotation=90)\n",
    "plt.ylabel('count')\n",
    "plt.show()"
   ]
  },
  {
   "cell_type": "code",
   "execution_count": 19,
   "id": "Vlt5dlZ70j7A",
   "metadata": {
    "colab": {
     "base_uri": "https://localhost:8080/",
     "height": 491
    },
    "id": "Vlt5dlZ70j7A",
    "outputId": "e5e90020-0fff-42a9-8ff3-89f75164994c"
   },
   "outputs": [
    {
     "data": {
      "image/png": "[encoded data removed]",
      "text/plain": [
       "<Figure size 864x432 with 1 Axes>"
      ]
     },
     "metadata": {},
     "output_type": "display_data"
    }
   ],
   "source": [
    "#plot a bargraph to check top 20 drugName\n",
    "plt.figure(figsize=(12,6))\n",
    "drugName_top = df['drugName'].value_counts(ascending = False).head(20)\n",
    "\n",
    "plt.bar(drugName_top.index,drugName_top.values,color='blue')\n",
    "plt.title('drugName Top-20',fontsize = 20)\n",
    "plt.xticks(rotation=90)\n",
    "plt.ylabel('count')\n",
    "plt.show()"
   ]
  },
  {
   "cell_type": "code",
   "execution_count": 20,
   "id": "Ve2jrkM-0ufa",
   "metadata": {
    "colab": {
     "base_uri": "https://localhost:8080/",
     "height": 633
    },
    "id": "Ve2jrkM-0ufa",
    "outputId": "7816d7d3-294b-4e10-b08f-e9b76fa35f2f"
   },
   "outputs": [
    {
     "data": {
      "image/png": "[encoded data removed]",
      "text/plain": [
       "<Figure size 864x432 with 1 Axes>"
      ]
     },
     "metadata": {},
     "output_type": "display_data"
    }
   ],
   "source": [
    "#plot a bargraph to check rarest 20 drugName\n",
    "plt.figure(figsize=(12,6))\n",
    "drugName_bottom = df['drugName'].value_counts(ascending = False).tail(20)\n",
    "\n",
    "plt.bar(drugName_bottom.index,drugName_bottom.values,color='blue')\n",
    "plt.title('drugName Bottom-20',fontsize = 20)\n",
    "plt.xticks(rotation=90)\n",
    "plt.ylabel('count')\n",
    "plt.show()"
   ]
  },
  {
   "cell_type": "code",
   "execution_count": 21,
   "id": "dSh5qCP203Dn",
   "metadata": {
    "colab": {
     "base_uri": "https://localhost:8080/"
    },
    "id": "dSh5qCP203Dn",
    "outputId": "6b1af1b1-0d7a-447c-9cfb-51c0f8e24bbf"
   },
   "outputs": [
    {
     "name": "stdout",
     "output_type": "stream",
     "text": [
      "   rating  counts    percent\n",
      "0    10.0    3763  26.986517\n",
      "1     9.0    2468  17.699369\n",
      "2     1.0    1802  12.923121\n",
      "3     8.0    1795  12.872920\n",
      "4     7.0     995   7.135686\n",
      "5     5.0     756   5.421687\n",
      "6     6.0     680   4.876649\n",
      "7     2.0     645   4.625645\n",
      "8     3.0     582   4.173838\n",
      "9     4.0     458   3.284567\n"
     ]
    }
   ],
   "source": [
    "# print ratings distribution\n",
    "ratings_ = df['rating'].value_counts().sort_values(ascending=False).reset_index().\\\n",
    "                    rename(columns = {'index' :'rating', 'rating' : 'counts'})\n",
    "ratings_['percent'] = 100 * (ratings_['counts']/df.shape[0])\n",
    "print(ratings_)"
   ]
  },
  {
   "cell_type": "code",
   "execution_count": 22,
   "id": "1il5QR6E0-Kx",
   "metadata": {
    "colab": {
     "base_uri": "https://localhost:8080/",
     "height": 419
    },
    "id": "1il5QR6E0-Kx",
    "outputId": "b0cb7894-2349-4074-a92f-2ceb9c567277"
   },
   "outputs": [
    {
     "data": {
      "image/png": "[encoded data removed]",
      "text/plain": [
       "<Figure size 864x432 with 1 Axes>"
      ]
     },
     "metadata": {},
     "output_type": "display_data"
    }
   ],
   "source": [
    "# plot ratings distribution \n",
    "sns.set(font_scale = 1.2, style = 'darkgrid')\n",
    "plt.rcParams['figure.figsize'] = [12, 6]\n",
    "sns.barplot(x = ratings_['rating'], y = ratings_['percent'],order = ratings_['rating'])\n",
    "plt.title('Ratings Percent',fontsize=20)\n",
    "plt.show()"
   ]
  },
  {
   "cell_type": "code",
   "execution_count": 23,
   "id": "hNxTxHZN1Jfp",
   "metadata": {
    "colab": {
     "base_uri": "https://localhost:8080/"
    },
    "id": "hNxTxHZN1Jfp",
    "outputId": "4e0b4b6a-8906-4aee-db3a-8b32ef1d7523"
   },
   "outputs": [
    {
     "data": {
      "text/plain": [
       "condition\n",
       "high blood pressure    140\n",
       "depression             105\n",
       "diabetes, type 2        89\n",
       "Name: drugName, dtype: int64"
      ]
     },
     "execution_count": 23,
     "metadata": {},
     "output_type": "execute_result"
    }
   ],
   "source": [
    "# Let's check the number of drugs/condition\n",
    "df.groupby('condition')['drugName'].nunique().sort_values(ascending=False).head(20)"
   ]
  },
  {
   "cell_type": "code",
   "execution_count": 24,
   "id": "95d4e52e",
   "metadata": {
    "colab": {
     "base_uri": "https://localhost:8080/"
    },
    "id": "95d4e52e",
    "outputId": "a227fe35-bd46-49ff-f8fd-c9ca3bdc7ad6"
   },
   "outputs": [
    {
     "data": {
      "text/plain": [
       "13944"
      ]
     },
     "execution_count": 24,
     "metadata": {},
     "output_type": "execute_result"
    }
   ],
   "source": [
    "# after removing the noise, let's check the shape\n",
    "df.shape[0]"
   ]
  },
  {
   "cell_type": "code",
   "execution_count": 25,
   "id": "bec38a95",
   "metadata": {
    "colab": {
     "base_uri": "https://localhost:8080/",
     "height": 632
    },
    "id": "bec38a95",
    "outputId": "f6c40243-f842-43d5-e29e-25d34bba3ab2"
   },
   "outputs": [
    {
     "name": "stdout",
     "output_type": "stream",
     "text": [
      "<wordcloud.wordcloud.WordCloud object at 0x00000257FA2B7BB0>\n"
     ]
    },
    {
     "data": {
      "image/png": "[encoded data removed]",
      "text/plain": [
       "<Figure size 1080x1080 with 1 Axes>"
      ]
     },
     "metadata": {},
     "output_type": "display_data"
    }
   ],
   "source": [
    "# let's see the words cloud for the reviews \n",
    "\n",
    "# most popular drugs\n",
    "\n",
    "from wordcloud import WordCloud\n",
    "from wordcloud import STOPWORDS\n",
    "\n",
    "stopwords = set(STOPWORDS)\n",
    "\n",
    "wordcloud = WordCloud(background_color = 'lightblue', stopwords = stopwords, width = 1200, height = 800).generate(str(df['review']))\n",
    "\n",
    "plt.rcParams['figure.figsize'] = (15, 15)\n",
    "plt.title('WORD CLOUD OF REVIEWS', fontsize = 25)\n",
    "print(wordcloud)\n",
    "plt.axis('off')\n",
    "plt.imshow(wordcloud)\n",
    "plt.show()"
   ]
  },
  {
   "cell_type": "markdown",
   "id": "595335ee",
   "metadata": {
    "id": "595335ee"
   },
   "source": [
    "# text processing"
   ]
  },
  {
   "cell_type": "code",
   "execution_count": 26,
   "id": "R247qt4QNDib",
   "metadata": {
    "id": "R247qt4QNDib"
   },
   "outputs": [],
   "source": [
    "# Convert the condition column to lowercase\n",
    "df['condition'] = df['condition'].str.lower()\n",
    "\n",
    "# Select rows where the condition is depression, high blood pressure, or type 2 diabetes\n",
    "condition_list = ['depression', 'high blood pressure', 'diabetes, type 2']\n",
    "df_selected = df[df['condition'].isin(condition_list)]\n",
    "\n",
    "# Save the resulting dataframe to a CSV file\n",
    "df_selected.to_csv('drug_data.csv', index=False)"
   ]
  },
  {
   "cell_type": "code",
   "execution_count": 27,
   "id": "4a90c389",
   "metadata": {
    "colab": {
     "base_uri": "https://localhost:8080/"
    },
    "id": "4a90c389",
    "outputId": "969c7da2-b032-4236-c780-8a70fbdfd896"
   },
   "outputs": [
    {
     "name": "stdout",
     "output_type": "stream",
     "text": [
      "\"I have taken anti-depressants for years, with some improvement but mostly moderate to severe side affects, which makes me go off them.\r\n",
      "\r\n",
      "I only take Cymbalta now mostly for pain.\r\n",
      "\r\n",
      "When I began Deplin, I noticed a major improvement overnight. More energy, better disposition, and no sinking to the low lows of major depression. I have been taking it for about 3 months now and feel like a normal person for the first time ever. Best thing, no side effects.\" \n",
      "\n",
      "\"1 week on Zoloft for anxiety and mood swings. I take 50mg in the mornings with my breakfast. Nausea on day one  but that subsided as the week went on.  I get the jitters about 2 hrs after taking it followed by yawning. I feel much better though and less angry/stressed.\" \n",
      "\n",
      "\"my gp started me on Venlafaxine yesterday to help with depression and the change,a hour after taking them i was feeling very sick couldn,t stomach food or fluids, thought keep it up as she told me they did come with some side effects which would get better,took another one last night and was so ill i couldn,t stand ,being sick sweating shaking thought i was going to pass out. Did get some sleep hopeing to feel better this morning,took another one and felt so spaced out dry mouth shaking ,sick, so booked in to see gp again to make sure i should be feeling like this, only to find out she had put me on the wrong dose should have been on 37.5mg was put on 150mg, now on right dose hope this will be better\" \n",
      "\n",
      "\"Hey Guys,  It&#039;s been 4 months since my last post as I wanted to give it a few months to see how this was going to work.  So, I have been on Trulicity for six months now with Metformin.  When I hit the five month period the diarrhea, gas, sulphur belching finally subsided.  I now longer have any of those side effects.  However, I still haven&#039;t lost any weight at all, but I think that was because when I first started Trulicity I was taking it with Glimepiride and that one has a side effect of weight gain so I think the two meds were fighting each other lol.  I have been back on the Metformin with Trulicity for about a week now, so we will see what this does.  I was diagnosed as  stage 3 chronic kidney disease (CKD 3) so I am watching diet closely.\" \n",
      "\n",
      "\"This medicine saved my life. I was at my wits end with anti-depressants and was ready to give up. My doctor finally prescribed me this after many failed medications, I am so glad she did. I honestly do not know where I would be without Effexor XR. Side effects were very mild compared to other anti-depressants I tried. I was drowsy for the first couple days, but it was tolerable. I highly recommend this for severe depression. I would also like to mention for people to realize there is light at the end of the tunnel and YOU WILL GET BETTER, and to never give up.\" \n",
      "\n",
      "\"Started taking it and I slept well at night and awoke early around 5 to start my day happily. But come 8 am and I am drowsy and needed to take already two hrs nap. Awake and resume\r",
      "\r\n",
      "My day with not much difficulties. Than st 2 pm again I needed  a nap? So how was I gonna make it to work and my appointments too ? I went cold turkey. Felt much better after that. Only to crash again. I did try other anti depressants including pristique. But I suffered with insomnia with these meds.  I know I need to start again but so confused if I should resume welbutrin\" \n",
      "\n",
      "\"Intake Effexor XR 375 mg, and lorazepam for depression and anxiety. My doctor added Abilify and I took it in mornings. It made me foggy. I moved it to Bertie and sleep better overall. I have noticed an increase in irritability which equates to feeling extremely angry by 3 pm daily. I&#039;ve rearranged my lorazepam to reduce that but need more time. I&#039;m also having restlessness which almost feels manic. We shall see. Increased cravings for sweets.\" \n",
      "\n",
      "\"My blood pressure has been around 160/100. Doctor prescribed Azor 40/10. Just 4 hrs later my reading showed 120/82. I was amazed. I am now on it daily. Thanks to Azor.\" \n",
      "\n",
      "\"This medication is amazing! After 3 days of being extremely sick, I started to feel amazing, I am now 1 month into it and am so happy all the time and have no depressive thoughts at all. It kind of blocks out any sad thoughts. Works perfectly for me.\" \n",
      "\n",
      "\"I was recently referred to a endocrinologist and he started me on Trulicity and Jardiance. I&#039;ve tried to take Byetta in the past but had to stop because it made me very sick. I lost weight. But that was because I was throwing up all day. Effective weight loss method but I do NOT recommend it! \r\n",
      "I&#039;ve taken one dose of Trulicity and while I do have mild nausea it is not bad and I have switched from coffee to green tea in the morning. Really helps. That I would recommend. Sugar levels have not dropped significantly but they are dropping. Guess one week won&#039;t work wonders and I have to wait a bit. I don&#039;t know if it is the Trulicity or the Jardiance or the combo of both but I have managed to lose 7 pounds in 5 days.\" \n",
      "\n",
      "\"My genius psychiatrist started me on this drug in the fall of 2008.  The first few weeks I felt even worse than before I had started taking the fluoxetine.  After many months on the drug I was eventually taking 400mg a day, and having manic thoughts &amp; episodes.  My psychiatrist decided I was bi-polar and then started me on seroquel (rather than give me a break for my nervous system to re-adjust to it&#039;s natural state), which I also ended up taking for about 6 months and at about the same dose.  In retrospect I wish I hadn&#039;t taken either fluoxetine(Prozac) or seroquel(Quetiapine).\" \n",
      "\n",
      "\"I was really glad that I experienced none of the possible side effects. After four weeks I did notice my mood getting better, but after that some things happened in my life (my dog had surgery, a break-up, a hair experiment gone wrong) that I was not able to deal with and I got worse. I felt myself spiraling downward and my anxiety shot way up. It&#039;s month number two and I just switched to lexapro. Hope it helps.\" \n",
      "\n",
      "\"This drug causes persistent nausea in some users as per their website. For most people it goes away after a few weeks--but not all. Initially I was also itchy and a little weepy (went away after 2 weeks). If you have a history of being unusually nausea prone (ie pregnancy) in my experience you may wind up in the persistent nausea group. I will have to switch as I don&#039;t want to be chained to zofran. Otherwise, worked fine as an alternative to paxil. Fewer side effects--unfortunately the one side effect it did cause is pretty debilitating in my case!\" \n",
      "\n",
      "\"have only been on victorza for a few days.  I had bad nausea and migranes then it changed to no energy at all .  I sleep till noon one day and I have 2 young kids and a full time job.  Searching for a better answer\" \n",
      "\n",
      "\"F/26, Wellbutrin SR 100mg twice a day &amp; I feel so much better. I&#039;ve tried many different SS/SNRIs over the past 12 years &amp; they all made me have extreme suicidal thoughts. I had kind of given up hope on finding something that worked for me, but then a new psychiatrist recommended trying Wellbutrin. The first week or so was rough, I had blurry vision, shakes, &amp; extreme light sensitivity. Those negative side effects went away after 3 weeks. I&#039;m 3 months in &amp; my mood has significantly increased, which is just amazing because my depression worsens significantly in the winter. I feel optimistic for the future, my sex drive is better, I have more energy &amp; am more focused (I have fibromyalgia as well so this is huge for me), and I&#039;ve quit smoking!\" \n",
      "\n",
      "\"I&#039;m a 27 year old white male in good shape but have always had high blood pressure...I&#039;m guessing genetic. My blood pressure would run anywhere from 130-160 over 85-105. The doctor tried a diuretic which did nothing, and then a beta blocker which had horrible side effects. They finally tried 10mg of lisinopril and wow how great! It almost immediately brought my blood pressure to 118/80&#039;s. I actually cut my dose to 2.5 mg in the morning and 2.5 mg at lunch and my blood pressure stays perfect all day and night. I have had no side effects whatsoever and wouldn&#039;t even know I was taking any medication if it weren&#039;t for my lowered blood pressure. Highly recommend!\" \n",
      "\n",
      "\"I have been taking Jardiance for just over a year - I have NOT experienced any side effects whatsoever - MORE importantly this drug has reduced my blood sugar levels to an average of 5 and has maintained this level, quite incredible as nothing else has worked previously - I have named Jardiance as the &quot;diabetic wonder drug&quot; although my Doctor keeps reminding me there is no such thing as a wonder drug - I disagree this is MY wonder drug - thank you Jardiance you have changed my life completely astonishing result.\" \n",
      "\n",
      "\"I have been on metoprolol er 12.5mg since September 20th. The first month was great then on October 21st my resting heart rate went from 61 to 70 and when I walk it suddenly goes to 140 for no reason. I work out 6 days a week and it doesn&#039;t make any sence to me. Going back to my doctor tomorrow to figure it out. I just don&#039;t see why all of a sudden it would make things 10x worse. I didn&#039;t take it today to see if it would help. I was able to exersice without my heart rate sky rocketing to ridiculous numbers. This is the first medication like this I have ever taken. Plus the weight gain is ridiculous. I lost 15 lbs before starting this medication and less then 2 months I gained it all back.\" \n",
      "\n",
      "\"After being suicidal for many months and self harming in addition to extreme anxiety. I had taken Prozac  6 years earlier and didn&#039;t work at all has NOW almost eliminated my depression. I feel happier than I have in years. The only downside is I have gained about 20 lbs. My lowest weight was 133, considered healthy for someone 5&#039;7 and athletic, but despite my clean eating and exercise I&#039;ve blown up to 163 lbs in 2 years and nothing seems to get the weight off. This has been my only negative side effect. I choose my mental health over my body image although I also have an eating disorder BDD.\" \n",
      "\n",
      "\"I&#039;ve been on Victoza for 13 days and have lost 8lbs. I&#039;ve also been following a low carb diet maintaining 50g of carbs on a daily basis. I&#039;ve also worked out only mildly at 2-3 times a week so far.  Feeling great, lots of energy.  Only side effects were nausea the first 2 days and some mild constipation.\" \n",
      "\n"
     ]
    }
   ],
   "source": [
    "#check first three reviews\n",
    "for i in df['review'][0:20]:\n",
    "    print(i,'\\n')"
   ]
  },
  {
   "cell_type": "code",
   "execution_count": 28,
   "id": "4awn2f9Antao",
   "metadata": {
    "id": "4awn2f9Antao"
   },
   "outputs": [],
   "source": [
    "import pandas as pd\n",
    "import nltk\n",
    "from nltk.corpus import stopwords\n",
    "from nltk.tokenize import word_tokenize\n",
    "from nltk.corpus import wordnet\n",
    "from contractions import contractions_dict\n",
    "\n",
    "\n",
    "# Define the process_review function\n",
    "def process_review(review):\n",
    "    # Remove hashtags\n",
    "    review = review.replace('#', '')\n",
    "    \n",
    "    # Expand contractions\n",
    "    words = review.split()\n",
    "    words = [contractions_dict[word] if word in contractions_dict else word for word in words]\n",
    "    review = ' '.join(words)\n",
    "    \n",
    "    # Tokenize the text\n",
    "    tokens = word_tokenize(review)\n",
    "    \n",
    "    # Remove stopwords\n",
    "    stop_words = set(stopwords.words('english'))\n",
    "    tokens = [token for token in tokens if not token in stop_words]\n",
    "    \n",
    "    # Remove punctuation\n",
    "    tokens = [token for token in tokens if token.isalpha()]\n",
    "    \n",
    "    # Return the processed tokens\n",
    "    return ' '.join(tokens)\n",
    "\n",
    "# Clean the drug reviews\n",
    "df['processed_review'] = df['review'].apply(process_review)\n"
   ]
  },
  {
   "cell_type": "code",
   "execution_count": 29,
   "id": "UnuQpDkv7hfV",
   "metadata": {
    "colab": {
     "base_uri": "https://localhost:8080/"
    },
    "id": "UnuQpDkv7hfV",
    "outputId": "1d21f897-3f22-4f14-b33b-04b25a429739"
   },
   "outputs": [
    {
     "name": "stderr",
     "output_type": "stream",
     "text": [
      "[nltk_data] Error loading wordnet: <urlopen error [WinError 10060] A\n",
      "[nltk_data]     connection attempt failed because the connected party\n",
      "[nltk_data]     did not properly respond after a period of time, or\n",
      "[nltk_data]     established connection failed because connected host\n",
      "[nltk_data]     has failed to respond>\n"
     ]
    },
    {
     "data": {
      "text/plain": [
       "False"
      ]
     },
     "execution_count": 29,
     "metadata": {},
     "output_type": "execute_result"
    }
   ],
   "source": [
    "import nltk\n",
    "nltk.download('wordnet')"
   ]
  },
  {
   "cell_type": "code",
   "execution_count": 30,
   "id": "f3TfujWJw6gW",
   "metadata": {
    "id": "f3TfujWJw6gW"
   },
   "outputs": [
    {
     "name": "stdout",
     "output_type": "stream",
     "text": [
      "0    I taken years improvement mostly moderate seve...\n",
      "1    week Zoloft anxiety mood swings I take morning...\n",
      "2    gp started Venlafaxine yesterday help depressi...\n",
      "3    Hey Guys It months since last post I wanted gi...\n",
      "4    This medicine saved life I wits end ready give...\n",
      "5    Started taking I slept well night awoke early ...\n",
      "6    Intake Effexor XR mg lorazepam depression anxi...\n",
      "7    My blood pressure around Doctor prescribed Azo...\n",
      "8    This medication amazing After days extremely s...\n",
      "9    I recently referred endocrinologist started Tr...\n",
      "Name: processed_review, dtype: object\n"
     ]
    }
   ],
   "source": [
    "# Apply the process_review function to the review column\n",
    "df['processed_review'] = df['review'].apply(process_review)\n",
    "df['condition'] = df['condition'].apply(process_review)\n",
    "df['drugName'] = df['drugName'].apply(process_review)\n",
    "\n",
    "# Print the first 10 processed reviews\n",
    "print(df['processed_review'].head(10))\n"
   ]
  },
  {
   "cell_type": "code",
   "execution_count": 31,
   "id": "NiihpyYDvVvR",
   "metadata": {
    "id": "NiihpyYDvVvR"
   },
   "outputs": [],
   "source": [
    "# Import necessary libraries\n",
    "import pandas as pd\n",
    "from sklearn.model_selection import train_test_split\n",
    "from sklearn.feature_extraction.text import CountVectorizer\n",
    "from sklearn.linear_model import LogisticRegression\n",
    "from sklearn.metrics import accuracy_score"
   ]
  },
  {
   "cell_type": "code",
   "execution_count": 32,
   "id": "eRWmv5V6fRE8",
   "metadata": {
    "id": "eRWmv5V6fRE8"
   },
   "outputs": [
    {
     "name": "stdout",
     "output_type": "stream",
     "text": [
      "       UniqueID      drugName            condition  \\\n",
      "0         75612                         depression   \n",
      "1         96233    Sertraline           depression   \n",
      "2        121333   Venlafaxine           depression   \n",
      "3        156544   Dulaglutide        diabetes type   \n",
      "4        131909    Effexor XR           depression   \n",
      "...         ...           ...                  ...   \n",
      "13939    198130    Metoprolol  high blood pressure   \n",
      "13940     34443      Bystolic  high blood pressure   \n",
      "13941     86533      Invokana        diabetes type   \n",
      "13942     93069  Vortioxetine           depression   \n",
      "13943    103458      Tekturna  high blood pressure   \n",
      "\n",
      "                                                  review  rating       date  \\\n",
      "0      \"I have taken anti-depressants for years, with...    10.0 2017-03-09   \n",
      "1      \"1 week on Zoloft for anxiety and mood swings....     8.0 2011-05-07   \n",
      "2      \"my gp started me on Venlafaxine yesterday to ...     4.0 2016-04-27   \n",
      "3      \"Hey Guys,  It&#039;s been 4 months since my l...    10.0 2017-10-24   \n",
      "4      \"This medicine saved my life. I was at my wits...    10.0 2013-06-20   \n",
      "...                                                  ...     ...        ...   \n",
      "13939  \"It is fourth blood pressure pill for me. It f...     4.0 2009-07-15   \n",
      "13940  \"While on Bystolic my feet and arms were numb....     1.0 2009-07-18   \n",
      "13941  \"I just got diagnosed with type 2. My doctor p...     9.0 2015-10-23   \n",
      "13942  \"This is the third med I&#039;ve tried for anx...     2.0 2016-07-17   \n",
      "13943  \"I have only been on Tekturna for 9 days. The ...     7.0 2010-02-07   \n",
      "\n",
      "       usefulCount                                   processed_review  \\\n",
      "0               54  I taken years improvement mostly moderate seve...   \n",
      "1                3  week Zoloft anxiety mood swings I take morning...   \n",
      "2                3  gp started Venlafaxine yesterday help depressi...   \n",
      "3               24  Hey Guys It months since last post I wanted gi...   \n",
      "4              166  This medicine saved life I wits end ready give...   \n",
      "...            ...                                                ...   \n",
      "13939           39  It fourth blood pressure pill It feels like pa...   \n",
      "13940           25  While Bystolic feet arms numb My blood sugars ...   \n",
      "13941           47  I got diagnosed type My doctor prescribed Invo...   \n",
      "13942           33  This third med I tried anxiety mild depression...   \n",
      "13943           18  I Tekturna days The effect immediate I also ca...   \n",
      "\n",
      "      Sentiment  \n",
      "0      positive  \n",
      "1      positive  \n",
      "2       neutral  \n",
      "3      positive  \n",
      "4      positive  \n",
      "...         ...  \n",
      "13939   neutral  \n",
      "13940  negative  \n",
      "13941  positive  \n",
      "13942  negative  \n",
      "13943   neutral  \n",
      "\n",
      "[13944 rows x 9 columns]\n"
     ]
    }
   ],
   "source": [
    "import pandas as pd\n",
    "\n",
    "# Create a new column for sentiment\n",
    "df['Sentiment'] = ''\n",
    "\n",
    "# Assign sentiment based on rating\n",
    "df.loc[df['rating'] < 3, 'Sentiment'] = 'negative'\n",
    "df.loc[df['rating'] > 7, 'Sentiment'] = 'positive'\n",
    "df.loc[(df['rating'] >= 3) & (df['rating'] <= 7), 'Sentiment'] = 'neutral'\n",
    "\n",
    "# Print the updated dataset with sentiment column\n",
    "print(df)\n"
   ]
  },
  {
   "cell_type": "code",
   "execution_count": 33,
   "id": "LA9rqtCTHSfJ",
   "metadata": {
    "id": "LA9rqtCTHSfJ"
   },
   "outputs": [],
   "source": [
    "# Remove irrelevant columns\n",
    "df = df.drop(columns=['UniqueID', 'date', 'usefulCount' ,'review'] , axis=1)"
   ]
  },
  {
   "cell_type": "code",
   "execution_count": 34,
   "id": "TFDPxZ_98haL",
   "metadata": {
    "id": "TFDPxZ_98haL"
   },
   "outputs": [
    {
     "data": {
      "text/html": [
       "<div>\n",
       "<style scoped>\n",
       "    .dataframe tbody tr th:only-of-type {\n",
       "        vertical-align: middle;\n",
       "    }\n",
       "\n",
       "    .dataframe tbody tr th {\n",
       "        vertical-align: top;\n",
       "    }\n",
       "\n",
       "    .dataframe thead th {\n",
       "        text-align: right;\n",
       "    }\n",
       "</style>\n",
       "<table border=\"1\" class=\"dataframe\">\n",
       "  <thead>\n",
       "    <tr style=\"text-align: right;\">\n",
       "      <th></th>\n",
       "      <th>drugName</th>\n",
       "      <th>condition</th>\n",
       "      <th>rating</th>\n",
       "      <th>processed_review</th>\n",
       "      <th>Sentiment</th>\n",
       "    </tr>\n",
       "  </thead>\n",
       "  <tbody>\n",
       "    <tr>\n",
       "      <th>0</th>\n",
       "      <td></td>\n",
       "      <td>depression</td>\n",
       "      <td>10.0</td>\n",
       "      <td>I taken years improvement mostly moderate seve...</td>\n",
       "      <td>positive</td>\n",
       "    </tr>\n",
       "    <tr>\n",
       "      <th>1</th>\n",
       "      <td>Sertraline</td>\n",
       "      <td>depression</td>\n",
       "      <td>8.0</td>\n",
       "      <td>week Zoloft anxiety mood swings I take morning...</td>\n",
       "      <td>positive</td>\n",
       "    </tr>\n",
       "    <tr>\n",
       "      <th>2</th>\n",
       "      <td>Venlafaxine</td>\n",
       "      <td>depression</td>\n",
       "      <td>4.0</td>\n",
       "      <td>gp started Venlafaxine yesterday help depressi...</td>\n",
       "      <td>neutral</td>\n",
       "    </tr>\n",
       "    <tr>\n",
       "      <th>3</th>\n",
       "      <td>Dulaglutide</td>\n",
       "      <td>diabetes type</td>\n",
       "      <td>10.0</td>\n",
       "      <td>Hey Guys It months since last post I wanted gi...</td>\n",
       "      <td>positive</td>\n",
       "    </tr>\n",
       "    <tr>\n",
       "      <th>4</th>\n",
       "      <td>Effexor XR</td>\n",
       "      <td>depression</td>\n",
       "      <td>10.0</td>\n",
       "      <td>This medicine saved life I wits end ready give...</td>\n",
       "      <td>positive</td>\n",
       "    </tr>\n",
       "    <tr>\n",
       "      <th>5</th>\n",
       "      <td>Wellbutrin</td>\n",
       "      <td>depression</td>\n",
       "      <td>4.0</td>\n",
       "      <td>Started taking I slept well night awoke early ...</td>\n",
       "      <td>neutral</td>\n",
       "    </tr>\n",
       "    <tr>\n",
       "      <th>6</th>\n",
       "      <td>Aripiprazole</td>\n",
       "      <td>depression</td>\n",
       "      <td>4.0</td>\n",
       "      <td>Intake Effexor XR mg lorazepam depression anxi...</td>\n",
       "      <td>neutral</td>\n",
       "    </tr>\n",
       "    <tr>\n",
       "      <th>7</th>\n",
       "      <td>Amlodipine olmesartan</td>\n",
       "      <td>high blood pressure</td>\n",
       "      <td>10.0</td>\n",
       "      <td>My blood pressure around Doctor prescribed Azo...</td>\n",
       "      <td>positive</td>\n",
       "    </tr>\n",
       "    <tr>\n",
       "      <th>8</th>\n",
       "      <td>Desvenlafaxine</td>\n",
       "      <td>depression</td>\n",
       "      <td>10.0</td>\n",
       "      <td>This medication amazing After days extremely s...</td>\n",
       "      <td>positive</td>\n",
       "    </tr>\n",
       "    <tr>\n",
       "      <th>9</th>\n",
       "      <td>Dulaglutide</td>\n",
       "      <td>diabetes type</td>\n",
       "      <td>9.0</td>\n",
       "      <td>I recently referred endocrinologist started Tr...</td>\n",
       "      <td>positive</td>\n",
       "    </tr>\n",
       "    <tr>\n",
       "      <th>10</th>\n",
       "      <td>Fluoxetine</td>\n",
       "      <td>depression</td>\n",
       "      <td>1.0</td>\n",
       "      <td>My genius psychiatrist started drug fall The f...</td>\n",
       "      <td>negative</td>\n",
       "    </tr>\n",
       "    <tr>\n",
       "      <th>11</th>\n",
       "      <td>Bupropion</td>\n",
       "      <td>depression</td>\n",
       "      <td>4.0</td>\n",
       "      <td>I really glad I experienced none possible side...</td>\n",
       "      <td>neutral</td>\n",
       "    </tr>\n",
       "    <tr>\n",
       "      <th>12</th>\n",
       "      <td>Trintellix</td>\n",
       "      <td>depression</td>\n",
       "      <td>5.0</td>\n",
       "      <td>This drug causes persistent nausea users per w...</td>\n",
       "      <td>neutral</td>\n",
       "    </tr>\n",
       "    <tr>\n",
       "      <th>13</th>\n",
       "      <td>Liraglutide</td>\n",
       "      <td>diabetes type</td>\n",
       "      <td>5.0</td>\n",
       "      <td>victorza days I bad nausea migranes changed en...</td>\n",
       "      <td>neutral</td>\n",
       "    </tr>\n",
       "    <tr>\n",
       "      <th>14</th>\n",
       "      <td>Bupropion</td>\n",
       "      <td>depression</td>\n",
       "      <td>10.0</td>\n",
       "      <td>Wellbutrin SR twice day amp I feel much better...</td>\n",
       "      <td>positive</td>\n",
       "    </tr>\n",
       "    <tr>\n",
       "      <th>15</th>\n",
       "      <td>Lisinopril</td>\n",
       "      <td>high blood pressure</td>\n",
       "      <td>10.0</td>\n",
       "      <td>I year old white male good shape always high b...</td>\n",
       "      <td>positive</td>\n",
       "    </tr>\n",
       "    <tr>\n",
       "      <th>16</th>\n",
       "      <td>Empagliflozin</td>\n",
       "      <td>diabetes type</td>\n",
       "      <td>10.0</td>\n",
       "      <td>I taking Jardiance year I NOT experienced side...</td>\n",
       "      <td>positive</td>\n",
       "    </tr>\n",
       "    <tr>\n",
       "      <th>17</th>\n",
       "      <td>Metoprolol</td>\n",
       "      <td>high blood pressure</td>\n",
       "      <td>2.0</td>\n",
       "      <td>I metoprolol er since September The first mont...</td>\n",
       "      <td>negative</td>\n",
       "    </tr>\n",
       "    <tr>\n",
       "      <th>18</th>\n",
       "      <td>Fluoxetine</td>\n",
       "      <td>depression</td>\n",
       "      <td>8.0</td>\n",
       "      <td>After suicidal many months self harming additi...</td>\n",
       "      <td>positive</td>\n",
       "    </tr>\n",
       "    <tr>\n",
       "      <th>19</th>\n",
       "      <td>Victoza</td>\n",
       "      <td>diabetes type</td>\n",
       "      <td>10.0</td>\n",
       "      <td>I Victoza days lost I also following low carb ...</td>\n",
       "      <td>positive</td>\n",
       "    </tr>\n",
       "    <tr>\n",
       "      <th>20</th>\n",
       "      <td>Trazodone</td>\n",
       "      <td>depression</td>\n",
       "      <td>7.0</td>\n",
       "      <td>It worked far I would recommend anyone sufferi...</td>\n",
       "      <td>neutral</td>\n",
       "    </tr>\n",
       "    <tr>\n",
       "      <th>21</th>\n",
       "      <td>Pristiq</td>\n",
       "      <td>depression</td>\n",
       "      <td>6.0</td>\n",
       "      <td>This third week Pristiq far I feeling quite po...</td>\n",
       "      <td>neutral</td>\n",
       "    </tr>\n",
       "    <tr>\n",
       "      <th>22</th>\n",
       "      <td>Levomilnacipran</td>\n",
       "      <td>depression</td>\n",
       "      <td>1.0</td>\n",
       "      <td>I severe depression since teens antidepressant...</td>\n",
       "      <td>negative</td>\n",
       "    </tr>\n",
       "    <tr>\n",
       "      <th>23</th>\n",
       "      <td>Liraglutide</td>\n",
       "      <td>diabetes type</td>\n",
       "      <td>10.0</td>\n",
       "      <td>I Victoza less week already huge difference le...</td>\n",
       "      <td>positive</td>\n",
       "    </tr>\n",
       "    <tr>\n",
       "      <th>24</th>\n",
       "      <td>Liraglutide</td>\n",
       "      <td>diabetes type</td>\n",
       "      <td>10.0</td>\n",
       "      <td>Started last night I zero appetite How possibl...</td>\n",
       "      <td>positive</td>\n",
       "    </tr>\n",
       "    <tr>\n",
       "      <th>25</th>\n",
       "      <td>Desvenlafaxine</td>\n",
       "      <td>depression</td>\n",
       "      <td>8.0</td>\n",
       "      <td>I taking Pristiq weeks started taking mg coupl...</td>\n",
       "      <td>positive</td>\n",
       "    </tr>\n",
       "    <tr>\n",
       "      <th>26</th>\n",
       "      <td>Cymbalta</td>\n",
       "      <td>depression</td>\n",
       "      <td>8.0</td>\n",
       "      <td>I weeks I seriously notice difference I years ...</td>\n",
       "      <td>positive</td>\n",
       "    </tr>\n",
       "    <tr>\n",
       "      <th>27</th>\n",
       "      <td>Exenatide</td>\n",
       "      <td>diabetes type</td>\n",
       "      <td>6.0</td>\n",
       "      <td>I Bydureon months I really noticed loss appeti...</td>\n",
       "      <td>neutral</td>\n",
       "    </tr>\n",
       "    <tr>\n",
       "      <th>28</th>\n",
       "      <td>Bydureon</td>\n",
       "      <td>diabetes type</td>\n",
       "      <td>10.0</td>\n",
       "      <td>Within weeks saw blood glucose half good level...</td>\n",
       "      <td>positive</td>\n",
       "    </tr>\n",
       "    <tr>\n",
       "      <th>29</th>\n",
       "      <td>Victoza</td>\n",
       "      <td>diabetes type</td>\n",
       "      <td>10.0</td>\n",
       "      <td>I type diabetic yrs I tried victoza may As tod...</td>\n",
       "      <td>positive</td>\n",
       "    </tr>\n",
       "    <tr>\n",
       "      <th>30</th>\n",
       "      <td>Victoza</td>\n",
       "      <td>diabetes type</td>\n",
       "      <td>1.0</td>\n",
       "      <td>All side effects</td>\n",
       "      <td>negative</td>\n",
       "    </tr>\n",
       "    <tr>\n",
       "      <th>31</th>\n",
       "      <td>Escitalopram</td>\n",
       "      <td>depression</td>\n",
       "      <td>8.0</td>\n",
       "      <td>I lexapro several years I say initial side eff...</td>\n",
       "      <td>positive</td>\n",
       "    </tr>\n",
       "    <tr>\n",
       "      <th>32</th>\n",
       "      <td>Venlafaxine</td>\n",
       "      <td>depression</td>\n",
       "      <td>1.0</td>\n",
       "      <td>Worked weeks stopped</td>\n",
       "      <td>negative</td>\n",
       "    </tr>\n",
       "    <tr>\n",
       "      <th>33</th>\n",
       "      <td>Nardil</td>\n",
       "      <td>depression</td>\n",
       "      <td>10.0</td>\n",
       "      <td>This medication brilliant Completely got rid d...</td>\n",
       "      <td>positive</td>\n",
       "    </tr>\n",
       "    <tr>\n",
       "      <th>34</th>\n",
       "      <td>Zoloft</td>\n",
       "      <td>depression</td>\n",
       "      <td>10.0</td>\n",
       "      <td>I bad one point anxieyy depression OCD working...</td>\n",
       "      <td>positive</td>\n",
       "    </tr>\n",
       "    <tr>\n",
       "      <th>35</th>\n",
       "      <td>Trazodone</td>\n",
       "      <td>depression</td>\n",
       "      <td>10.0</td>\n",
       "      <td>I take trazodone help balance effects Cymbalta...</td>\n",
       "      <td>positive</td>\n",
       "    </tr>\n",
       "    <tr>\n",
       "      <th>36</th>\n",
       "      <td>Prazosin</td>\n",
       "      <td>high blood pressure</td>\n",
       "      <td>6.0</td>\n",
       "      <td>Using parasomnia bph bp Kind silver bullet But...</td>\n",
       "      <td>neutral</td>\n",
       "    </tr>\n",
       "    <tr>\n",
       "      <th>37</th>\n",
       "      <td>Dulaglutide</td>\n",
       "      <td>diabetes type</td>\n",
       "      <td>8.0</td>\n",
       "      <td>Initial use info review Little dizzy nausea fi...</td>\n",
       "      <td>positive</td>\n",
       "    </tr>\n",
       "    <tr>\n",
       "      <th>38</th>\n",
       "      <td>Methylphenidate</td>\n",
       "      <td>depression</td>\n",
       "      <td>10.0</td>\n",
       "      <td>Methylphenidate changed life My depression alm...</td>\n",
       "      <td>positive</td>\n",
       "    </tr>\n",
       "    <tr>\n",
       "      <th>39</th>\n",
       "      <td>Escitalopram</td>\n",
       "      <td>depression</td>\n",
       "      <td>10.0</td>\n",
       "      <td>I female I always melancholic person given fam...</td>\n",
       "      <td>positive</td>\n",
       "    </tr>\n",
       "    <tr>\n",
       "      <th>40</th>\n",
       "      <td>Bupropion</td>\n",
       "      <td>depression</td>\n",
       "      <td>8.0</td>\n",
       "      <td>Wellbutrin significantly improved overall conc...</td>\n",
       "      <td>positive</td>\n",
       "    </tr>\n",
       "    <tr>\n",
       "      <th>41</th>\n",
       "      <td>Exenatide</td>\n",
       "      <td>diabetes type</td>\n",
       "      <td>10.0</td>\n",
       "      <td>My normal range I lost lbs All labs great due ...</td>\n",
       "      <td>positive</td>\n",
       "    </tr>\n",
       "    <tr>\n",
       "      <th>42</th>\n",
       "      <td>Wellbutrin XL</td>\n",
       "      <td>depression</td>\n",
       "      <td>6.0</td>\n",
       "      <td>I knew risky take antidepressant given symptom...</td>\n",
       "      <td>neutral</td>\n",
       "    </tr>\n",
       "    <tr>\n",
       "      <th>43</th>\n",
       "      <td>Metoprolol</td>\n",
       "      <td>high blood pressure</td>\n",
       "      <td>10.0</td>\n",
       "      <td>I took Lopressor years worked well lowering bl...</td>\n",
       "      <td>positive</td>\n",
       "    </tr>\n",
       "    <tr>\n",
       "      <th>44</th>\n",
       "      <td>Lexapro</td>\n",
       "      <td>depression</td>\n",
       "      <td>9.0</td>\n",
       "      <td>I year old mother ready give life Started taki...</td>\n",
       "      <td>positive</td>\n",
       "    </tr>\n",
       "    <tr>\n",
       "      <th>45</th>\n",
       "      <td>Pristiq</td>\n",
       "      <td>depression</td>\n",
       "      <td>1.0</td>\n",
       "      <td>I took pristiq month one pill day I currently ...</td>\n",
       "      <td>negative</td>\n",
       "    </tr>\n",
       "    <tr>\n",
       "      <th>46</th>\n",
       "      <td>Zoloft</td>\n",
       "      <td>depression</td>\n",
       "      <td>10.0</td>\n",
       "      <td>I taking Zoloft years I take mg daily I found ...</td>\n",
       "      <td>positive</td>\n",
       "    </tr>\n",
       "    <tr>\n",
       "      <th>47</th>\n",
       "      <td>Sertraline</td>\n",
       "      <td>depression</td>\n",
       "      <td>6.0</td>\n",
       "      <td>I sertraline years After developing strange ph...</td>\n",
       "      <td>neutral</td>\n",
       "    </tr>\n",
       "    <tr>\n",
       "      <th>48</th>\n",
       "      <td>Exenatide</td>\n",
       "      <td>diabetes type</td>\n",
       "      <td>1.0</td>\n",
       "      <td>I started Bydueron weeks ago I fine first week...</td>\n",
       "      <td>negative</td>\n",
       "    </tr>\n",
       "    <tr>\n",
       "      <th>49</th>\n",
       "      <td>Venlafaxine</td>\n",
       "      <td>depression</td>\n",
       "      <td>9.0</td>\n",
       "      <td>Helped ton Suffered depression long babies bor...</td>\n",
       "      <td>positive</td>\n",
       "    </tr>\n",
       "  </tbody>\n",
       "</table>\n",
       "</div>"
      ],
      "text/plain": [
       "                 drugName            condition  rating  \\\n",
       "0                                   depression    10.0   \n",
       "1              Sertraline           depression     8.0   \n",
       "2             Venlafaxine           depression     4.0   \n",
       "3             Dulaglutide        diabetes type    10.0   \n",
       "4              Effexor XR           depression    10.0   \n",
       "5              Wellbutrin           depression     4.0   \n",
       "6            Aripiprazole           depression     4.0   \n",
       "7   Amlodipine olmesartan  high blood pressure    10.0   \n",
       "8          Desvenlafaxine           depression    10.0   \n",
       "9             Dulaglutide        diabetes type     9.0   \n",
       "10             Fluoxetine           depression     1.0   \n",
       "11              Bupropion           depression     4.0   \n",
       "12             Trintellix           depression     5.0   \n",
       "13            Liraglutide        diabetes type     5.0   \n",
       "14              Bupropion           depression    10.0   \n",
       "15             Lisinopril  high blood pressure    10.0   \n",
       "16          Empagliflozin        diabetes type    10.0   \n",
       "17             Metoprolol  high blood pressure     2.0   \n",
       "18             Fluoxetine           depression     8.0   \n",
       "19                Victoza        diabetes type    10.0   \n",
       "20              Trazodone           depression     7.0   \n",
       "21                Pristiq           depression     6.0   \n",
       "22        Levomilnacipran           depression     1.0   \n",
       "23            Liraglutide        diabetes type    10.0   \n",
       "24            Liraglutide        diabetes type    10.0   \n",
       "25         Desvenlafaxine           depression     8.0   \n",
       "26               Cymbalta           depression     8.0   \n",
       "27              Exenatide        diabetes type     6.0   \n",
       "28               Bydureon        diabetes type    10.0   \n",
       "29                Victoza        diabetes type    10.0   \n",
       "30                Victoza        diabetes type     1.0   \n",
       "31           Escitalopram           depression     8.0   \n",
       "32            Venlafaxine           depression     1.0   \n",
       "33                 Nardil           depression    10.0   \n",
       "34                 Zoloft           depression    10.0   \n",
       "35              Trazodone           depression    10.0   \n",
       "36               Prazosin  high blood pressure     6.0   \n",
       "37            Dulaglutide        diabetes type     8.0   \n",
       "38        Methylphenidate           depression    10.0   \n",
       "39           Escitalopram           depression    10.0   \n",
       "40              Bupropion           depression     8.0   \n",
       "41              Exenatide        diabetes type    10.0   \n",
       "42          Wellbutrin XL           depression     6.0   \n",
       "43             Metoprolol  high blood pressure    10.0   \n",
       "44                Lexapro           depression     9.0   \n",
       "45                Pristiq           depression     1.0   \n",
       "46                 Zoloft           depression    10.0   \n",
       "47             Sertraline           depression     6.0   \n",
       "48              Exenatide        diabetes type     1.0   \n",
       "49            Venlafaxine           depression     9.0   \n",
       "\n",
       "                                     processed_review Sentiment  \n",
       "0   I taken years improvement mostly moderate seve...  positive  \n",
       "1   week Zoloft anxiety mood swings I take morning...  positive  \n",
       "2   gp started Venlafaxine yesterday help depressi...   neutral  \n",
       "3   Hey Guys It months since last post I wanted gi...  positive  \n",
       "4   This medicine saved life I wits end ready give...  positive  \n",
       "5   Started taking I slept well night awoke early ...   neutral  \n",
       "6   Intake Effexor XR mg lorazepam depression anxi...   neutral  \n",
       "7   My blood pressure around Doctor prescribed Azo...  positive  \n",
       "8   This medication amazing After days extremely s...  positive  \n",
       "9   I recently referred endocrinologist started Tr...  positive  \n",
       "10  My genius psychiatrist started drug fall The f...  negative  \n",
       "11  I really glad I experienced none possible side...   neutral  \n",
       "12  This drug causes persistent nausea users per w...   neutral  \n",
       "13  victorza days I bad nausea migranes changed en...   neutral  \n",
       "14  Wellbutrin SR twice day amp I feel much better...  positive  \n",
       "15  I year old white male good shape always high b...  positive  \n",
       "16  I taking Jardiance year I NOT experienced side...  positive  \n",
       "17  I metoprolol er since September The first mont...  negative  \n",
       "18  After suicidal many months self harming additi...  positive  \n",
       "19  I Victoza days lost I also following low carb ...  positive  \n",
       "20  It worked far I would recommend anyone sufferi...   neutral  \n",
       "21  This third week Pristiq far I feeling quite po...   neutral  \n",
       "22  I severe depression since teens antidepressant...  negative  \n",
       "23  I Victoza less week already huge difference le...  positive  \n",
       "24  Started last night I zero appetite How possibl...  positive  \n",
       "25  I taking Pristiq weeks started taking mg coupl...  positive  \n",
       "26  I weeks I seriously notice difference I years ...  positive  \n",
       "27  I Bydureon months I really noticed loss appeti...   neutral  \n",
       "28  Within weeks saw blood glucose half good level...  positive  \n",
       "29  I type diabetic yrs I tried victoza may As tod...  positive  \n",
       "30                                   All side effects  negative  \n",
       "31  I lexapro several years I say initial side eff...  positive  \n",
       "32                               Worked weeks stopped  negative  \n",
       "33  This medication brilliant Completely got rid d...  positive  \n",
       "34  I bad one point anxieyy depression OCD working...  positive  \n",
       "35  I take trazodone help balance effects Cymbalta...  positive  \n",
       "36  Using parasomnia bph bp Kind silver bullet But...   neutral  \n",
       "37  Initial use info review Little dizzy nausea fi...  positive  \n",
       "38  Methylphenidate changed life My depression alm...  positive  \n",
       "39  I female I always melancholic person given fam...  positive  \n",
       "40  Wellbutrin significantly improved overall conc...  positive  \n",
       "41  My normal range I lost lbs All labs great due ...  positive  \n",
       "42  I knew risky take antidepressant given symptom...   neutral  \n",
       "43  I took Lopressor years worked well lowering bl...  positive  \n",
       "44  I year old mother ready give life Started taki...  positive  \n",
       "45  I took pristiq month one pill day I currently ...  negative  \n",
       "46  I taking Zoloft years I take mg daily I found ...  positive  \n",
       "47  I sertraline years After developing strange ph...   neutral  \n",
       "48  I started Bydueron weeks ago I fine first week...  negative  \n",
       "49  Helped ton Suffered depression long babies bor...  positive  "
      ]
     },
     "execution_count": 34,
     "metadata": {},
     "output_type": "execute_result"
    }
   ],
   "source": [
    "df.head(50)"
   ]
  },
  {
   "cell_type": "code",
   "execution_count": 35,
   "id": "KodbtJFx2utp",
   "metadata": {
    "id": "KodbtJFx2utp"
   },
   "outputs": [],
   "source": [
    "import pandas as pd\n",
    "from sklearn.model_selection import train_test_split\n",
    "\n",
    "\n",
    "# define features and target variable\n",
    "X = df[['drugName', 'condition', 'processed_review']]\n",
    "y = df['Sentiment']\n"
   ]
  },
  {
   "cell_type": "code",
   "execution_count": 36,
   "id": "NuVzmAH1Q1fZ",
   "metadata": {
    "id": "NuVzmAH1Q1fZ"
   },
   "outputs": [],
   "source": [
    "from sklearn.preprocessing import OneHotEncoder, LabelEncoder\n",
    "\n",
    "# One-hot encode the categorical features\n",
    "ohe = OneHotEncoder()\n",
    "X = ohe.fit_transform(X)\n",
    "\n",
    "# Label encode the target variable\n",
    "le = LabelEncoder()\n",
    "y  = le.fit_transform(y)\n",
    "\n",
    "# Split the dataset into training and testing sets\n",
    "X_train, X_test, y_train, y_test = train_test_split(X, y, test_size=0.3, random_state=42)\n",
    "\n"
   ]
  },
  {
   "cell_type": "code",
   "execution_count": 37,
   "id": "R68OYJoqzx78",
   "metadata": {
    "id": "R68OYJoqzx78"
   },
   "outputs": [
    {
     "name": "stdout",
     "output_type": "stream",
     "text": [
      "Accuracy:  0.5822179732313576\n",
      "              precision    recall  f1-score   support\n",
      "\n",
      "           0       0.58      0.04      0.07       744\n",
      "           1       0.62      0.08      0.14      1077\n",
      "           2       0.58      0.98      0.73      2363\n",
      "\n",
      "    accuracy                           0.58      4184\n",
      "   macro avg       0.59      0.37      0.32      4184\n",
      "weighted avg       0.59      0.58      0.46      4184\n",
      "\n"
     ]
    }
   ],
   "source": [
    "import pandas as pd\n",
    "from sklearn.feature_extraction.text import CountVectorizer\n",
    "from sklearn.naive_bayes import MultinomialNB\n",
    "\n",
    "# train the Naive Bayes model\n",
    "nb = MultinomialNB()\n",
    "nb.fit(X_train, y_train)\n",
    "\n",
    "# make predictions on the testing set\n",
    "y_pred = nb.predict(X_test)\n",
    "\n",
    "# evaluate the performance of the model\n",
    "from sklearn.metrics import accuracy_score, classification_report\n",
    "print(\"Accuracy: \", accuracy_score(y_test, y_pred))\n",
    "print(classification_report(y_test, y_pred))"
   ]
  },
  {
   "cell_type": "code",
   "execution_count": 38,
   "id": "LyLuQJm62Ghe",
   "metadata": {
    "id": "LyLuQJm62Ghe"
   },
   "outputs": [
    {
     "name": "stdout",
     "output_type": "stream",
     "text": [
      "Accuracy: 0.5659655831739961\n"
     ]
    }
   ],
   "source": [
    "# import required libraries\n",
    "import pandas as pd\n",
    "import xgboost as xgb\n",
    "from sklearn.model_selection import train_test_split\n",
    "from sklearn.metrics import accuracy_score\n",
    "\n",
    "# create xgboost model\n",
    "model = xgb.XGBClassifier()\n",
    "\n",
    "# fit the model to the training data\n",
    "model.fit(X_train, y_train)\n",
    "\n",
    "# make predictions on test data\n",
    "y_pred = model.predict(X_test)\n",
    "\n",
    "# calculate accuracy score\n",
    "accuracy = accuracy_score(y_test, y_pred)\n",
    "print('Accuracy:', accuracy)\n"
   ]
  },
  {
   "cell_type": "code",
   "execution_count": 39,
   "id": "ySEBLzgC3eVj",
   "metadata": {
    "id": "ySEBLzgC3eVj"
   },
   "outputs": [
    {
     "name": "stdout",
     "output_type": "stream",
     "text": [
      "Accuracy: 0.7186902485659655\n"
     ]
    }
   ],
   "source": [
    "\n",
    "# Import necessary libraries\n",
    "import pandas as pd\n",
    "from sklearn.model_selection import train_test_split\n",
    "from sklearn.svm import SVC\n",
    "from sklearn.metrics import accuracy_score\n",
    "\n",
    "\n",
    "\n",
    "# Create an SVM object and fit it to the training data\n",
    "svm_model = SVC(kernel='linear')\n",
    "svm_model.fit(X_train, y_train)\n",
    "\n",
    "# Make predictions on the test set\n",
    "y_pred = svm_model.predict(X_test)\n",
    "\n",
    "# Calculate the accuracy score of the model\n",
    "accuracy = accuracy_score(y_test, y_pred)\n",
    "\n",
    "# Print the accuracy score\n",
    "print(\"Accuracy:\", accuracy)\n",
    "\n"
   ]
  },
  {
   "cell_type": "markdown",
   "id": "762657f8",
   "metadata": {},
   "source": [
    "# save Model\n"
   ]
  },
  {
   "cell_type": "code",
   "execution_count": 40,
   "id": "789c018a",
   "metadata": {},
   "outputs": [],
   "source": [
    "import pickle"
   ]
  },
  {
   "cell_type": "code",
   "execution_count": 41,
   "id": "af2c58fc",
   "metadata": {},
   "outputs": [],
   "source": [
    "# saving the model \n",
    "import pickle \n",
    "pickle_out = open(\"model.pkl\", mode = \"wb\") \n",
    "pickle.dump(svm_model, pickle_out) \n",
    "pickle_out.close()"
   ]
  },
  {
   "cell_type": "code",
   "execution_count": 42,
   "id": "6c8d5743",
   "metadata": {},
   "outputs": [],
   "source": [
    "load_model = pickle.load(open('model.sav','rb'))"
   ]
  },
  {
   "cell_type": "code",
   "execution_count": null,
   "id": "7cead211",
   "metadata": {},
   "outputs": [],
   "source": []
  },
  {
   "cell_type": "code",
   "execution_count": null,
   "id": "ab42cf83",
   "metadata": {},
   "outputs": [],
   "source": []
  },
  {
   "cell_type": "code",
   "execution_count": null,
   "id": "5607cb19",
   "metadata": {},
   "outputs": [],
   "source": []
  },
  {
   "cell_type": "code",
   "execution_count": null,
   "id": "00a768c4",
   "metadata": {},
   "outputs": [],
   "source": []
  },
  {
   "cell_type": "code",
   "execution_count": null,
   "id": "0daed328",
   "metadata": {},
   "outputs": [],
   "source": []
  },
  {
   "cell_type": "code",
   "execution_count": null,
   "id": "4609b013",
   "metadata": {},
   "outputs": [],
   "source": []
  },
  {
   "cell_type": "code",
   "execution_count": null,
   "id": "9f4f9f66",
   "metadata": {},
   "outputs": [],
   "source": []
  }
 ],
 "metadata": {
  "colab": {
   "provenance": []
  },
  "kernelspec": {
   "display_name": "Python 3 (ipykernel)",
   "language": "python",
   "name": "python3"
  },
  "language_info": {
   "codemirror_mode": {
    "name": "ipython",
    "version": 3
   },
   "file_extension": ".py",
   "mimetype": "text/x-python",
   "name": "python",
   "nbconvert_exporter": "python",
   "pygments_lexer": "ipython3",
   "version": "3.9.12"
  }
 },
 "nbformat": 4,
 "nbformat_minor": 5
}
